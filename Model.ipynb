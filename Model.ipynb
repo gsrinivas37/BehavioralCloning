{
 "cells": [
  {
   "cell_type": "code",
   "execution_count": 1,
   "metadata": {},
   "outputs": [
    {
     "name": "stdout",
     "output_type": "stream",
     "text": [
      "Training samples count is 17123\n"
     ]
    }
   ],
   "source": [
    "import os\n",
    "import csv\n",
    "\n",
    "def readSamples(file):\n",
    "    records = []\n",
    "    with open(file) as csvfile:\n",
    "        reader = csv.reader(csvfile)\n",
    "        for line in reader:\n",
    "            records.append(line)\n",
    "    records.remove(records[0])\n",
    "    return records\n",
    "\n",
    "samples = []\n",
    "#Initial driving dataset from https://d17h27t6h515a5.cloudfront.net/topher/2016/December/584f6edd_data/data.zip\n",
    "samples = samples + readSamples('data/driving_log.csv')\n",
    "#Driving data collected by driving around the loop once using the simulator \n",
    "samples = samples + readSamples('data/additional_log.csv')\n",
    "# More data collected around the bridge\n",
    "samples = samples + readSamples('data/fix1_log.csv')\n",
    "# More data collected to finetune around certain corners.\n",
    "samples = samples + readSamples('data/finetune_log.csv')\n",
    "\n",
    "print(\"Training samples count is \"+ str(len(samples)))\n"
   ]
  },
  {
   "cell_type": "code",
   "execution_count": 2,
   "metadata": {
    "collapsed": true
   },
   "outputs": [],
   "source": [
    "from sklearn.model_selection import train_test_split\n",
    "train_samples, validation_samples = train_test_split(samples, test_size=0.2)\n",
    "from sklearn.utils import shuffle\n",
    "\n",
    "import cv2\n",
    "import numpy as np\n",
    "import sklearn\n",
    "\n",
    "def generator(samples, batch_size=32):\n",
    "    num_samples = len(samples)\n",
    "    while 1: # Loop forever so the generator never terminates\n",
    "        shuffle(samples)\n",
    "        for offset in range(0, num_samples, batch_size):\n",
    "            batch_samples = samples[offset:offset+batch_size]\n",
    "\n",
    "            images = []\n",
    "            angles = []\n",
    "            for batch_sample in batch_samples:\n",
    "                # Centre Image\n",
    "                name = 'data/IMG/'+batch_sample[0].split('/')[-1]\n",
    "                center_image = cv2.imread(name)\n",
    "                center_angle = float(batch_sample[3])\n",
    "                images.append(center_image)\n",
    "                angles.append(center_angle)\n",
    "                \n",
    "                #Left camera image with correction factor of 0.2\n",
    "                name = 'data/IMG/'+batch_sample[1].split('/')[-1]\n",
    "                left_image = cv2.imread(name)\n",
    "                images.append(left_image)\n",
    "                angles.append(center_angle+0.2)\n",
    "                \n",
    "                #Right camera image with correction factor of -0.2\n",
    "                name = 'data/IMG/'+batch_sample[2].split('/')[-1]\n",
    "                right_image = cv2.imread(name)\n",
    "                images.append(right_image)\n",
    "                angles.append(center_angle-0.2)\n",
    "\n",
    "            augmented_images = []\n",
    "            augmented_angles = []\n",
    "\n",
    "            #Augment the images by flipping the images and negating the angle.\n",
    "            for image, angle in zip(images, angles):\n",
    "                augmented_images.append(image)\n",
    "                augmented_angles.append(angle)\n",
    "                augmented_images.append(np.fliplr(image))\n",
    "                augmented_angles.append(angle*-1)   \n",
    "            \n",
    "            X_train = np.array(augmented_images)\n",
    "            y_train = np.array(augmented_angles)\n",
    "            yield sklearn.utils.shuffle(X_train, y_train)"
   ]
  },
  {
   "cell_type": "code",
   "execution_count": 3,
   "metadata": {
    "collapsed": true
   },
   "outputs": [],
   "source": [
    "# compile and train the model using the generator function\n",
    "train_generator = generator(train_samples, batch_size=32)\n",
    "validation_generator = generator(validation_samples, batch_size=32)"
   ]
  },
  {
   "cell_type": "code",
   "execution_count": 4,
   "metadata": {},
   "outputs": [
    {
     "name": "stderr",
     "output_type": "stream",
     "text": [
      "Using TensorFlow backend.\n"
     ]
    },
    {
     "name": "stdout",
     "output_type": "stream",
     "text": [
      "Epoch 1/5\n",
      "82188/82188 [==============================] - 155s - loss: 0.0336 - val_loss: 0.0318\n",
      "Epoch 2/5\n",
      "82188/82188 [==============================] - 152s - loss: 0.0313 - val_loss: 0.0314\n",
      "Epoch 3/5\n",
      "82188/82188 [==============================] - 152s - loss: 0.0305 - val_loss: 0.0314\n",
      "Epoch 4/5\n",
      "82188/82188 [==============================] - 152s - loss: 0.0297 - val_loss: 0.0306\n",
      "Epoch 5/5\n",
      "82188/82188 [==============================] - 152s - loss: 0.0287 - val_loss: 0.0303\n"
     ]
    }
   ],
   "source": [
    "from keras.models import Sequential\n",
    "from keras.layers import Dense, Flatten, Lambda, Convolution2D, MaxPooling2D,Cropping2D, Dropout\n",
    "\n",
    "# NVidia self-driving car network architecture from the link\n",
    "# https://devblogs.nvidia.com/parallelforall/deep-learning-self-driving-cars/\n",
    "model = Sequential()\n",
    "model.add(Lambda(lambda x: x/255.0 - 0.5, input_shape=(160,320,3)))\n",
    "model.add(Cropping2D(cropping=((70,25), (0,0))))\n",
    "model.add(Convolution2D(24,5,5, subsample=(2,2), activation=\"relu\"))\n",
    "model.add(Convolution2D(36,5,5, subsample=(2,2), activation=\"relu\"))\n",
    "model.add(Convolution2D(48,5,5, subsample=(2,2), activation=\"relu\"))\n",
    "model.add(Convolution2D(64,3,3, activation=\"relu\"))\n",
    "model.add(Convolution2D(64,3,3, activation=\"relu\"))\n",
    "model.add(Flatten())\n",
    "model.add(Dense(100))\n",
    "model.add(Dense(50))\n",
    "model.add(Dense(10))\n",
    "model.add(Dense(1))\n",
    "\n",
    "#Using mean squared error as loss function and adam optimizer\n",
    "model.compile(loss='mse', optimizer='adam')\n",
    "\n",
    "#Using 5 Epochs\n",
    "history_object = model.fit_generator(train_generator, samples_per_epoch =\n",
    "    len(train_samples)*6, validation_data = \n",
    "    validation_generator,\n",
    "    nb_val_samples = len(validation_samples)*6, \n",
    "    nb_epoch=5, verbose=1)\n",
    "\n",
    "model.save('model.h5')\n"
   ]
  },
  {
   "cell_type": "code",
   "execution_count": 5,
   "metadata": {},
   "outputs": [
    {
     "name": "stdout",
     "output_type": "stream",
     "text": [
      "dict_keys(['val_loss', 'loss'])\n"
     ]
    },
    {
     "data": {
      "image/png": "[encoded data removed]",
      "text/plain": [
       "<matplotlib.figure.Figure at 0x7f085042a0f0>"
      ]
     },
     "metadata": {},
     "output_type": "display_data"
    }
   ],
   "source": [
    "import matplotlib.pyplot as plt\n",
    "\n",
    "### print the keys contained in the history object\n",
    "print(history_object.history.keys())\n",
    "\n",
    "### plot the training and validation loss for each epoch\n",
    "plt.plot(history_object.history['loss'])\n",
    "plt.plot(history_object.history['val_loss'])\n",
    "plt.title('model mean squared error loss')\n",
    "plt.ylabel('mean squared error loss')\n",
    "plt.xlabel('epoch')\n",
    "plt.legend(['training set', 'validation set'], loc='upper right')\n",
    "plt.show()"
   ]
  },
  {
   "cell_type": "code",
   "execution_count": null,
   "metadata": {
    "collapsed": true
   },
   "outputs": [],
   "source": []
  }
 ],
 "metadata": {
  "kernelspec": {
   "display_name": "Python 3",
   "language": "python",
   "name": "python3"
  },
  "language_info": {
   "codemirror_mode": {
    "name": "ipython",
    "version": 3
   },
   "file_extension": ".py",
   "mimetype": "text/x-python",
   "name": "python",
   "nbconvert_exporter": "python",
   "pygments_lexer": "ipython3",
   "version": "3.5.2"
  },
  "widgets": {
   "state": {},
   "version": "1.1.2"
  }
 },
 "nbformat": 4,
 "nbformat_minor": 2
}
